{
 "cells": [
  {
   "cell_type": "code",
   "execution_count": 4,
   "id": "97966669-08dd-4fe1-ba1e-4d1a2137906f",
   "metadata": {},
   "outputs": [
    {
     "name": "stdin",
     "output_type": "stream",
     "text": [
      "Enter no of students:  3\n",
      "Enter roll no:  1\n",
      "Enter roll no:  5\n",
      "Enter roll no:  9\n",
      "Enter key:  5\n",
      "1. Linear search\n",
      "2. Sentinel Search\n",
      "3. Exit\n",
      " 1\n"
     ]
    },
    {
     "name": "stdout",
     "output_type": "stream",
     "text": [
      "Index of 5 : 1\n"
     ]
    },
    {
     "name": "stdin",
     "output_type": "stream",
     "text": [
      "1. Linear search\n",
      "2. Sentinel Search\n",
      "3. Exit\n",
      " 2\n"
     ]
    },
    {
     "name": "stdout",
     "output_type": "stream",
     "text": [
      "Index of 5 : 1\n"
     ]
    },
    {
     "name": "stdin",
     "output_type": "stream",
     "text": [
      "1. Linear search\n",
      "2. Sentinel Search\n",
      "3. Exit\n",
      " 3\n"
     ]
    }
   ],
   "source": [
    "#WAP to store roll nos in array and search using linear and sentinel search\n",
    "from array import *\n",
    "\n",
    "#Creating array\n",
    "a = array('i',[])\n",
    "n = int(input(\"Enter no of students: \"))\n",
    "for i in range(n):\n",
    "    a.append(int(input(\"Enter roll no: \")))\n",
    "\n",
    "#Linear Search\n",
    "def linear(l,ele):\n",
    "     if ele in l:\n",
    "         for i in l:\n",
    "             if i == ele:\n",
    "                 return l.index(i)\n",
    "                 break\n",
    "\n",
    "#Sentinel Search\n",
    "def sentinel(l,ele):\n",
    "    last = l[-1]\n",
    "    l[-1] = ele\n",
    "    i = 0\n",
    "    while l[i] != ele:\n",
    "        i += 1\n",
    "    l[-1] = last\n",
    "    if (i < len(l)-1) or l[-1] == ele:\n",
    "        return i\n",
    "    else:\n",
    "        return None\n",
    "\n",
    "key = int(input(\"Enter key: \"))\n",
    "\n",
    "decider = True\n",
    "while decider:\n",
    "    ch = int(input(\"1. Linear search\\n2. Sentinel Search\\n3. Exit\\n\"))\n",
    "    match ch:\n",
    "        case 1:\n",
    "            print(\"Index of\",key,\":\",linear(a,key))\n",
    "        case 2:\n",
    "            print(\"Index of\",key,\":\",sentinel(a,key))\n",
    "        case 3:\n",
    "            decider = False\n"
   ]
  },
  {
   "cell_type": "code",
   "execution_count": 1,
   "id": "95e184a1-f5d6-48c4-ad47-3677b1dcbe50",
   "metadata": {},
   "outputs": [
    {
     "name": "stdin",
     "output_type": "stream",
     "text": [
      "Enter list of roll numbers:  [165,561,31,363,156,915,9131,1684]\n",
      "Enter roll number to search:  31\n"
     ]
    },
    {
     "name": "stdout",
     "output_type": "stream",
     "text": [
      "Student with roll number 31 attended the training (Binary Search).\n",
      "Student with roll number 31 attended the training (Fibonacci Search).\n"
     ]
    }
   ],
   "source": [
    "# Function to perform Binary Search\n",
    "def binary_search(arr, x):\n",
    "    low = 0\n",
    "    high = len(arr) - 1\n",
    "    mid = 0\n",
    "\n",
    "    while low <= high:\n",
    "        mid = (high + low) // 2\n",
    "\n",
    "        # If x is greater, ignore the left half\n",
    "        if arr[mid] < x:\n",
    "            low = mid + 1\n",
    "        # If x is smaller, ignore the right half\n",
    "        elif arr[mid] > x:\n",
    "            high = mid - 1\n",
    "        # x is present at mid\n",
    "        else:\n",
    "            return True\n",
    "    return False\n",
    "\n",
    "# Function to perform Fibonacci Search\n",
    "def fibonacci_search(arr, x):\n",
    "    n = len(arr)\n",
    "    fibM2 = 0  # (m-2)'th Fibonacci number\n",
    "    fibM1 = 1  # (m-1)'th Fibonacci number\n",
    "    fibM = fibM2 + fibM1  # m'th Fibonacci number\n",
    "\n",
    "    # fibM is the smallest Fibonacci number greater than or equal to n\n",
    "    while fibM < n:\n",
    "        fibM2 = fibM1\n",
    "        fibM1 = fibM\n",
    "        fibM = fibM2 + fibM1\n",
    "\n",
    "    offset = -1\n",
    "\n",
    "    while fibM > 1:\n",
    "        i = min(offset + fibM2, n-1)\n",
    "\n",
    "        if arr[i] < x:\n",
    "            fibM = fibM1\n",
    "            fibM1 = fibM2\n",
    "            fibM2 = fibM - fibM1\n",
    "            offset = i\n",
    "        elif arr[i] > x:\n",
    "            fibM = fibM2\n",
    "            fibM1 = fibM1 - fibM2\n",
    "            fibM2 = fibM - fibM1\n",
    "        else:\n",
    "            return True\n",
    "\n",
    "    if fibM1 and offset + 1 < n and arr[offset + 1] == x:\n",
    "        return True\n",
    "    return False\n",
    "\n",
    "# Sorted list of students who attended the training program\n",
    "roll_numbers = sorted(eval(input(\"Enter list of roll numbers: \")))\n",
    "\n",
    "# Input roll number to search\n",
    "try:\n",
    "    roll_no = int(input(\"Enter roll number to search: \"))\n",
    "except ValueError:\n",
    "    print(\"Invalid input! Please enter a valid roll number.\")\n",
    "else:\n",
    "    # Binary Search\n",
    "    if binary_search(roll_numbers, roll_no):\n",
    "        print(f\"Student with roll number {roll_no} attended the training (Binary Search).\")\n",
    "    else:\n",
    "        print(f\"Student with roll number {roll_no} did not attend the training (Binary Search).\")\n",
    "\n",
    "    # Fibonacci Search\n",
    "    if fibonacci_search(roll_numbers, roll_no):\n",
    "        print(f\"Student with roll number {roll_no} attended the training (Fibonacci Search).\")\n",
    "    else:\n",
    "        print(f\"Student with roll number {roll_no} did not attend the training (Fibonacci Search).\")\n"
   ]
  },
  {
   "cell_type": "code",
   "execution_count": null,
   "id": "7dbda327-b342-4b51-808d-a218acedc2cf",
   "metadata": {},
   "outputs": [],
   "source": []
  }
 ],
 "metadata": {
  "kernelspec": {
   "display_name": "Python 3 (ipykernel)",
   "language": "python",
   "name": "python3"
  },
  "language_info": {
   "codemirror_mode": {
    "name": "ipython",
    "version": 3
   },
   "file_extension": ".py",
   "mimetype": "text/x-python",
   "name": "python",
   "nbconvert_exporter": "python",
   "pygments_lexer": "ipython3",
   "version": "3.12.0"
  }
 },
 "nbformat": 4,
 "nbformat_minor": 5
}
