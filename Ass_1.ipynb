{
 "cells": [
  {
   "cell_type": "code",
   "execution_count": 2,
   "id": "5a810e6e-e0be-485a-b3d9-b2143a7f6f16",
   "metadata": {},
   "outputs": [
    {
     "name": "stdin",
     "output_type": "stream",
     "text": [
      "Enter Your name  Prajwal\n",
      "Enter your age  19\n"
     ]
    }
   ],
   "source": [
    "# name = str(input(\"Enter Your name \"))\n",
    "# age = int(input(\"Enter your age \"))\n"
   ]
  },
  {
   "cell_type": "code",
   "execution_count": 3,
   "id": "c2f876d6-f7a4-442f-b116-dd9f9acefc6e",
   "metadata": {},
   "outputs": [
    {
     "name": "stdout",
     "output_type": "stream",
     "text": [
      "Prajwal You are eligible to vote \n"
     ]
    }
   ],
   "source": [
    "# if age < 18 :\n",
    "#     print(name, \"You are not eligible to vote \")\n",
    "# elif age >= 18:\n",
    "#     print(name, \"You are eligible to vote \")"
   ]
  },
  {
   "cell_type": "code",
   "execution_count": 8,
   "id": "cf837fa2-5f8c-46f4-b524-bcf0d0c4c488",
   "metadata": {},
   "outputs": [
    {
     "name": "stdout",
     "output_type": "stream",
     "text": [
      "Enter the elements for matrix x (3x3):\n"
     ]
    },
    {
     "name": "stdin",
     "output_type": "stream",
     "text": [
      "Enter element at position (1,1):  1\n",
      "Enter element at position (1,2):  2\n",
      "Enter element at position (1,3):  5\n",
      "Enter element at position (2,1):  5\n",
      "Enter element at position (2,2):  45\n",
      "Enter element at position (2,3):  3\n",
      "Enter element at position (3,1):  1\n",
      "Enter element at position (3,2):  52\n",
      "Enter element at position (3,3):  4\n"
     ]
    },
    {
     "name": "stdout",
     "output_type": "stream",
     "text": [
      "Enter the elements for matrix y (3x3):\n"
     ]
    },
    {
     "name": "stdin",
     "output_type": "stream",
     "text": [
      "Enter element at position (1,1):  1\n",
      "Enter element at position (1,2):  45\n",
      "Enter element at position (1,3):  483\n",
      "Enter element at position (2,1):  \n"
     ]
    },
    {
     "name": "stdout",
     "output_type": "stream",
     "text": [
      "Invalid input. Please enter a numeric value.\n"
     ]
    },
    {
     "name": "stdin",
     "output_type": "stream",
     "text": [
      "Enter element at position (2,1):  5\n",
      "Enter element at position (2,2):  2\n",
      "Enter element at position (2,3):  4\n",
      "Enter element at position (3,1):  5\n",
      "Enter element at position (3,2):  7\n",
      "Enter element at position (3,3):  7\n"
     ]
    },
    {
     "name": "stdout",
     "output_type": "stream",
     "text": [
      "\n",
      "Matrix x:\n",
      "[1.0, 2.0, 5.0]\n",
      "[5.0, 45.0, 3.0]\n",
      "[1.0, 52.0, 4.0]\n",
      "\n",
      "Matrix y:\n",
      "[1.0, 45.0, 483.0]\n",
      "[5.0, 2.0, 4.0]\n",
      "[5.0, 7.0, 7.0]\n",
      "\n",
      "Matrix result:\n",
      "[0, 0, 0]\n",
      "[0, 0, 0]\n",
      "[0, 0, 0]\n"
     ]
    }
   ],
   "source": [
    "def input_matrix_index_wise(rows, cols, name):\n",
    "    matrix = [[0] * cols for _ in range(rows)]\n",
    "    print(f\"Enter the elements for matrix {name} ({rows}x{cols}):\")\n",
    "    for i in range(rows):\n",
    "        for j in range(cols):\n",
    "            while True:\n",
    "                try:\n",
    "                    value = float(input(f\"Enter element at position ({i+1},{j+1}): \"))\n",
    "                    matrix[i][j] = value\n",
    "                    break\n",
    "                except ValueError:\n",
    "                    print(\"Invalid input. Please enter a numeric value.\")\n",
    "    return matrix\n",
    "\n",
    "rows = 3\n",
    "cols = 3\n",
    "\n",
    "x = input_matrix_index_wise(rows, cols, 'x')\n",
    "y = input_matrix_index_wise(rows, cols, 'y')\n",
    "\n",
    "result = [[0 for _ in range(cols)] for _ in range(rows)]\n",
    "\n",
    "print(\"\\nMatrix x:\")\n",
    "for row in x:\n",
    "    print(row)\n",
    "\n",
    "print(\"\\nMatrix y:\")\n",
    "for row in y:\n",
    "    print(row)\n",
    "\n",
    "print(\"\\nMatrix result:\")\n",
    "for row in result:\n",
    "    print(row)\n"
   ]
  },
  {
   "cell_type": "code",
   "execution_count": 10,
   "id": "3dd9a53c-36ac-4944-9ba6-b4ad753b4acc",
   "metadata": {},
   "outputs": [
    {
     "name": "stdout",
     "output_type": "stream",
     "text": [
      "1. Addition\n",
      "2. Substraction\n",
      "3. Multiplication\n",
      "4. Transpose\n"
     ]
    },
    {
     "name": "stdin",
     "output_type": "stream",
     "text": [
      "Enter the number (Option)  4\n"
     ]
    }
   ],
   "source": [
    "print(\"1. Addition\")\n",
    "print(\"2. Substraction\")\n",
    "print(\"3. Multiplication\")\n",
    "print(\"4. Transpose\")\n",
    "a= int(input(\"Enter the number (Option) \"))"
   ]
  },
  {
   "cell_type": "code",
   "execution_count": 11,
   "id": "621754a4-b92a-4425-81e1-89d596ae958c",
   "metadata": {},
   "outputs": [
    {
     "name": "stdout",
     "output_type": "stream",
     "text": [
      "Enter the Matrix you want to do matrix of\n"
     ]
    },
    {
     "name": "stdin",
     "output_type": "stream",
     "text": [
      "Enter the matrix name (x, y) in lowercase x\n"
     ]
    }
   ],
   "source": [
    "if a ==1:\n",
    "    # Addition\n",
    "    print(\"Addition Of the Matrix is \")\n",
    "    for i in range(len(x)):\n",
    "        for j in range(len(x[0])):\n",
    "            result[i][j] = x[i][j] + y[i][j]\n",
    "    for r in result:\n",
    "        print(r)\n",
    "\n",
    "elif a==2:\n",
    "    # Subtraction\n",
    "    print(\"Substraction Of the Matrix is \")\n",
    "    for i in range(len(x)):\n",
    "        for j in range(len(x[0])):\n",
    "            result[i][j] = x[i][j] - y[i][j]\n",
    "    for r in result:\n",
    "        print(r)\n",
    "\n",
    "elif a == 3:\n",
    "    print(\"Multiplication Of the matrix is \")\n",
    "    for i in range(len(x)):\n",
    "        for j in range(len(y[0])):\n",
    "            for k in range(len(y)):\n",
    "                result[i][j] += x[i][k] + y[k][j]\n",
    "    for r in result:\n",
    "        print(r)\n",
    "\n",
    "elif a ==4:\n",
    "    #Transpose\n",
    "    print(\"Enter the Matrix you want to do matrix of\")\n",
    "    mat = input(\"Enter the matrix name (x, y) in lowercase\")\n",
    "    if mat == x:\n",
    "        print (\"Transpose of the Matrix is x\")\n",
    "        for i in range(len(x)):\n",
    "            for j in range(len(x[0])):\n",
    "                result[j][i] = x[i][j] \n",
    "        for r in result:\n",
    "            print(r)\n",
    "\n",
    "    elif mat == y:\n",
    "        print (\"Transpose of the Matrix is y \")\n",
    "        for i in range(len(y)):\n",
    "            for j in range(len(y[0])):\n",
    "                result[j][i] = y[i][j] \n",
    "        for r in result:\n",
    "            print(r)\n",
    "\n",
    "else :\n",
    "    print(\"Invalid Value\")"
   ]
  },
  {
   "cell_type": "code",
   "execution_count": null,
   "id": "c6a87cb3-3cda-4fc2-a15f-e71157579935",
   "metadata": {},
   "outputs": [],
   "source": []
  }
 ],
 "metadata": {
  "kernelspec": {
   "display_name": "Python 3 (ipykernel)",
   "language": "python",
   "name": "python3"
  },
  "language_info": {
   "codemirror_mode": {
    "name": "ipython",
    "version": 3
   },
   "file_extension": ".py",
   "mimetype": "text/x-python",
   "name": "python",
   "nbconvert_exporter": "python",
   "pygments_lexer": "ipython3",
   "version": "3.10.12"
  }
 },
 "nbformat": 4,
 "nbformat_minor": 5
}
