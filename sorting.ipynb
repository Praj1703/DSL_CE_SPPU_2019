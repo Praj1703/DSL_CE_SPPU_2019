{
 "cells": [
  {
   "cell_type": "code",
   "execution_count": 1,
   "id": "ca30b176-2141-4b2e-aef1-da6fd22c4b86",
   "metadata": {},
   "outputs": [],
   "source": [
    "def selection_sort(arr):\n",
    "    n = len(arr)\n",
    "    for i in range(n):\n",
    "        min_index = i\n",
    "        for j in range(i + 1, n):\n",
    "            if arr[j] < arr[min_index]:\n",
    "                min_index = j\n",
    "        arr[i], arr[min_index] = arr[min_index], arr[i]"
   ]
  },
  {
   "cell_type": "code",
   "execution_count": 2,
   "id": "91462151-13a3-4310-a1be-0f860efcfef8",
   "metadata": {},
   "outputs": [],
   "source": [
    "def input_percentages():\n",
    "    n = int(input(\"Enter the number of students: \"))\n",
    "    percentages = []\n",
    "    for i in range(n):\n",
    "        # percent = int(input(f\"Enter percentage of student {i + 1}: \"))\n",
    "        print(\"Enter the percentages of the students: \")\n",
    "        percent = int(input())\n",
    "        percentages.append(percent)\n",
    "    return percentages"
   ]
  },
  {
   "cell_type": "code",
   "execution_count": 3,
   "id": "c88fc8c9-4718-4da7-bd1c-701d4583402f",
   "metadata": {},
   "outputs": [],
   "source": [
    "def display_percentages(arr):\n",
    "    print(\"Sorted percentages in ascending order:\")\n",
    "    for percent in arr:\n",
    "        print(percent)\n"
   ]
  },
  {
   "cell_type": "code",
   "execution_count": 4,
   "id": "4f897f1b-df79-4d2c-b014-4780dcfd78ec",
   "metadata": {},
   "outputs": [],
   "source": [
    "def main():\n",
    "    percentages = input_percentages()\n",
    "    selection_sort(percentages)\n",
    "    display_percentages(percentages)"
   ]
  },
  {
   "cell_type": "code",
   "execution_count": 5,
   "id": "911ad231-d28e-4998-98ea-c87df3282901",
   "metadata": {},
   "outputs": [
    {
     "name": "stdin",
     "output_type": "stream",
     "text": [
      "Enter the number of students:  4\n"
     ]
    },
    {
     "name": "stdout",
     "output_type": "stream",
     "text": [
      "Enter the percentages of the students: \n"
     ]
    },
    {
     "name": "stdin",
     "output_type": "stream",
     "text": [
      " 65\n"
     ]
    },
    {
     "name": "stdout",
     "output_type": "stream",
     "text": [
      "Enter the percentages of the students: \n"
     ]
    },
    {
     "name": "stdin",
     "output_type": "stream",
     "text": [
      " 89\n"
     ]
    },
    {
     "name": "stdout",
     "output_type": "stream",
     "text": [
      "Enter the percentages of the students: \n"
     ]
    },
    {
     "name": "stdin",
     "output_type": "stream",
     "text": [
      " 23\n"
     ]
    },
    {
     "name": "stdout",
     "output_type": "stream",
     "text": [
      "Enter the percentages of the students: \n"
     ]
    },
    {
     "name": "stdin",
     "output_type": "stream",
     "text": [
      " 87\n"
     ]
    },
    {
     "name": "stdout",
     "output_type": "stream",
     "text": [
      "Sorted percentages in ascending order:\n",
      "23\n",
      "65\n",
      "87\n",
      "89\n"
     ]
    }
   ],
   "source": [
    "if __name__ == \"__main__\":\n",
    "    main()"
   ]
  },
  {
   "cell_type": "code",
   "execution_count": null,
   "id": "e1fee59a-9bd8-42d8-8c4a-c1e340b63016",
   "metadata": {},
   "outputs": [],
   "source": []
  }
 ],
 "metadata": {
  "kernelspec": {
   "display_name": "Python 3 (ipykernel)",
   "language": "python",
   "name": "python3"
  },
  "language_info": {
   "codemirror_mode": {
    "name": "ipython",
    "version": 3
   },
   "file_extension": ".py",
   "mimetype": "text/x-python",
   "name": "python",
   "nbconvert_exporter": "python",
   "pygments_lexer": "ipython3",
   "version": "3.10.12"
  }
 },
 "nbformat": 4,
 "nbformat_minor": 5
}
