{
 "cells": [
  {
   "cell_type": "code",
   "execution_count": 1,
   "id": "ca30b176-2141-4b2e-aef1-da6fd22c4b86",
   "metadata": {},
   "outputs": [],
   "source": [
    "def selection_sort(arr):\n",
    "    n = len(arr)\n",
    "    for i in range(n):\n",
    "        min_index = i\n",
    "        for j in range(i + 1, n):\n",
    "            if arr[j] < arr[min_index]:\n",
    "                min_index = j\n",
    "        arr[i], arr[min_index] = arr[min_index], arr[i]"
   ]
  },
  {
   "cell_type": "code",
   "execution_count": 2,
   "id": "862b4a43-3f6d-4b01-8c67-626c7802b5a2",
   "metadata": {},
   "outputs": [],
   "source": [
    "def bubble_sort(arr):\n",
    "    n = len(arr)\n",
    "    for i in range(n):\n",
    "        swapped = False\n",
    "        for j in range(0, n-i-1):\n",
    "            if arr[j] > arr[j+1]:\n",
    "                arr[j], arr[j+1] = arr[j+1], arr[j]\n",
    "                swapped = True\n",
    "        # If no two elements were swapped, the array is sorted\n",
    "        if not swapped:\n",
    "            break\n"
   ]
  },
  {
   "cell_type": "code",
   "execution_count": 3,
   "id": "91462151-13a3-4310-a1be-0f860efcfef8",
   "metadata": {},
   "outputs": [],
   "source": [
    "def input_percentages():\n",
    "    n = int(input(\"Enter the number of students: \"))\n",
    "    percentages = []\n",
    "    for i in range(n):\n",
    "        # percent = int(input(f\"Enter percentage of student {i + 1}: \"))\n",
    "        print(\"Enter the percentages of the students: \")\n",
    "        percent = int(input())\n",
    "        percentages.append(percent)\n",
    "    return percentages"
   ]
  },
  {
   "cell_type": "code",
   "execution_count": 4,
   "id": "c88fc8c9-4718-4da7-bd1c-701d4583402f",
   "metadata": {},
   "outputs": [],
   "source": [
    "def display_percentages(arr):\n",
    "    print(\"Sorted percentages in ascending order:\")\n",
    "    for percent in arr:\n",
    "        print(percent)\n"
   ]
  },
  {
   "cell_type": "code",
   "execution_count": 5,
   "id": "4f897f1b-df79-4d2c-b014-4780dcfd78ec",
   "metadata": {},
   "outputs": [],
   "source": [
    "def main():\n",
    "    percentages = input_percentages()\n",
    "    \n",
    "    print(\"Choose the sorting method:\")\n",
    "    print(\"1. Selection Sort\")\n",
    "    print(\"2. Bubble Sort\")\n",
    "    choice = input(\"Enter 1 or 2: \")\n",
    "    \n",
    "    if choice == '1':\n",
    "        selection_sort(percentages)\n",
    "        print(\"Using Selection Sort.\")\n",
    "    elif choice == '2':\n",
    "        bubble_sort(percentages)\n",
    "        print(\"Using Bubble Sort.\")\n",
    "    else:\n",
    "        print(\"Invalid choice. \")\n",
    "            \n",
    "    display_percentages(percentages)\n"
   ]
  },
  {
   "cell_type": "code",
   "execution_count": 6,
   "id": "911ad231-d28e-4998-98ea-c87df3282901",
   "metadata": {},
   "outputs": [
    {
     "name": "stdin",
     "output_type": "stream",
     "text": [
      "Enter the number of students:  3\n"
     ]
    },
    {
     "name": "stdout",
     "output_type": "stream",
     "text": [
      "Enter the percentages of the students: \n"
     ]
    },
    {
     "name": "stdin",
     "output_type": "stream",
     "text": [
      " 65\n"
     ]
    },
    {
     "name": "stdout",
     "output_type": "stream",
     "text": [
      "Enter the percentages of the students: \n"
     ]
    },
    {
     "name": "stdin",
     "output_type": "stream",
     "text": [
      " 23\n"
     ]
    },
    {
     "name": "stdout",
     "output_type": "stream",
     "text": [
      "Enter the percentages of the students: \n"
     ]
    },
    {
     "name": "stdin",
     "output_type": "stream",
     "text": [
      " 48\n"
     ]
    },
    {
     "name": "stdout",
     "output_type": "stream",
     "text": [
      "Choose the sorting method:\n",
      "1. Selection Sort\n",
      "2. Bubble Sort\n"
     ]
    },
    {
     "name": "stdin",
     "output_type": "stream",
     "text": [
      "Enter 1 or 2:  2\n"
     ]
    },
    {
     "name": "stdout",
     "output_type": "stream",
     "text": [
      "Using Selection Sort.\n",
      "Sorted percentages in ascending order:\n",
      "23\n",
      "48\n",
      "65\n"
     ]
    }
   ],
   "source": [
    "if __name__ == \"__main__\":\n",
    "    main()"
   ]
  },
  {
   "cell_type": "code",
   "execution_count": null,
   "id": "e1fee59a-9bd8-42d8-8c4a-c1e340b63016",
   "metadata": {},
   "outputs": [],
   "source": []
  }
 ],
 "metadata": {
  "kernelspec": {
   "display_name": "Python 3 (ipykernel)",
   "language": "python",
   "name": "python3"
  },
  "language_info": {
   "codemirror_mode": {
    "name": "ipython",
    "version": 3
   },
   "file_extension": ".py",
   "mimetype": "text/x-python",
   "name": "python",
   "nbconvert_exporter": "python",
   "pygments_lexer": "ipython3",
   "version": "3.10.12"
  }
 },
 "nbformat": 4,
 "nbformat_minor": 5
}
