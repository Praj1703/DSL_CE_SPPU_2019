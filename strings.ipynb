{
 "cells": [
  {
   "cell_type": "code",
   "execution_count": 4,
   "id": "91585b92-3381-4881-b256-d9c9e55a40f0",
   "metadata": {},
   "outputs": [
    {
     "name": "stdin",
     "output_type": "stream",
     "text": [
      "Enter the string:  International Institute of Information Technology is the college in hijawadi pune and my name is prajwal who is studying in this college in CE branch in second year of the course the complete course is of 4 yearsInternational Institute of Information Technology is the college in hijawadi pune and my name is prajwal who is studying in this college in CE branch in second year of the course the complete course is of 4 yearsInternational Institute of Information Technology is the college in hijawadi pune and my name is prajwal who is studying in this college in CE branch in second year of the course the complete course is of 4 yearsInternational Institute of Information Technology is the college in hijawadi pune and my name is prajwal who is studying in this college in CE branch in second year of the course the complete course is of 4 yearsInternational Institute of Information Technology is the college in hijawadi pune and my name is prajwal who is studying in this college in CE branch in second year of the course the complete course is of 4 years\n"
     ]
    },
    {
     "name": "stdout",
     "output_type": "stream",
     "text": [
      "\n",
      "Select an operation:\n",
      "1. Display the word with the longest length\n",
      "2. Determine the frequency of occurrence of a particular character\n",
      "3. Check whether the string is a palindrome\n",
      "4. Display index of the first appearance of a substring\n",
      "5. Count the occurrences of each word in the string\n",
      "6. Exit\n"
     ]
    },
    {
     "name": "stdin",
     "output_type": "stream",
     "text": [
      "Enter your choice (1-6):  1\n"
     ]
    },
    {
     "name": "stdout",
     "output_type": "stream",
     "text": [
      "Longest word: yearsInternational\n",
      "\n",
      "Select an operation:\n",
      "1. Display the word with the longest length\n",
      "2. Determine the frequency of occurrence of a particular character\n",
      "3. Check whether the string is a palindrome\n",
      "4. Display index of the first appearance of a substring\n",
      "5. Count the occurrences of each word in the string\n",
      "6. Exit\n"
     ]
    },
    {
     "name": "stdin",
     "output_type": "stream",
     "text": [
      "Enter your choice (1-6):  3\n"
     ]
    },
    {
     "name": "stdout",
     "output_type": "stream",
     "text": [
      "Is the string a palindrome? False\n",
      "\n",
      "Select an operation:\n",
      "1. Display the word with the longest length\n",
      "2. Determine the frequency of occurrence of a particular character\n",
      "3. Check whether the string is a palindrome\n",
      "4. Display index of the first appearance of a substring\n",
      "5. Count the occurrences of each word in the string\n",
      "6. Exit\n"
     ]
    },
    {
     "name": "stdin",
     "output_type": "stream",
     "text": [
      "Enter your choice (1-6):  2\n",
      "Enter the character to find its frequency:  hinjawadi\n"
     ]
    },
    {
     "name": "stdout",
     "output_type": "stream",
     "text": [
      "Please enter exactly one character.\n",
      "\n",
      "Select an operation:\n",
      "1. Display the word with the longest length\n",
      "2. Determine the frequency of occurrence of a particular character\n",
      "3. Check whether the string is a palindrome\n",
      "4. Display index of the first appearance of a substring\n",
      "5. Count the occurrences of each word in the string\n",
      "6. Exit\n"
     ]
    },
    {
     "name": "stdin",
     "output_type": "stream",
     "text": [
      "Enter your choice (1-6):  2\n",
      "Enter the character to find its frequency:  p\n"
     ]
    },
    {
     "name": "stdout",
     "output_type": "stream",
     "text": [
      "Frequency of character 'p': 15\n",
      "\n",
      "Select an operation:\n",
      "1. Display the word with the longest length\n",
      "2. Determine the frequency of occurrence of a particular character\n",
      "3. Check whether the string is a palindrome\n",
      "4. Display index of the first appearance of a substring\n",
      "5. Count the occurrences of each word in the string\n",
      "6. Exit\n"
     ]
    },
    {
     "name": "stdin",
     "output_type": "stream",
     "text": [
      "Enter your choice (1-6):  4\n",
      "Enter the substring to find its first appearance index:  5\n"
     ]
    },
    {
     "name": "stdout",
     "output_type": "stream",
     "text": [
      "First appearance of substring '5': Substring not found\n",
      "\n",
      "Select an operation:\n",
      "1. Display the word with the longest length\n",
      "2. Determine the frequency of occurrence of a particular character\n",
      "3. Check whether the string is a palindrome\n",
      "4. Display index of the first appearance of a substring\n",
      "5. Count the occurrences of each word in the string\n",
      "6. Exit\n"
     ]
    },
    {
     "name": "stdin",
     "output_type": "stream",
     "text": [
      "Enter your choice (1-6):  6\n"
     ]
    },
    {
     "name": "stdout",
     "output_type": "stream",
     "text": [
      "Exiting...\n"
     ]
    }
   ],
   "source": [
    "def longest_word(s):\n",
    "    words = s.split()\n",
    "    if words:\n",
    "        longest = max(words, key=len)\n",
    "        return longest\n",
    "    return \"\"\n",
    "\n",
    "def char_frequency(s, char):\n",
    "    return s.count(char)\n",
    "\n",
    "def is_palindrome(s):\n",
    "    s = s.lower().replace(\" \", \"\")\n",
    "    return s == s[::-1]\n",
    "\n",
    "def first_appearance_index(s, substring):\n",
    "    index = s.find(substring)\n",
    "    return index if index != -1 else \"Substring not found\"\n",
    "\n",
    "def word_occurrences(s):\n",
    "    from collections import Counter\n",
    "    words = s.split()\n",
    "    word_count = Counter(words)\n",
    "    return dict(word_count)\n",
    "\n",
    "def main():\n",
    "    sample_string = input(\"Enter the string: \")\n",
    "\n",
    "    while True:\n",
    "        print(\"\\nSelect an operation:\")\n",
    "        print(\"1. Display the word with the longest length\")\n",
    "        print(\"2. Determine the frequency of occurrence of a particular character\")\n",
    "        print(\"3. Check whether the string is a palindrome\")\n",
    "        print(\"4. Display index of the first appearance of a substring\")\n",
    "        print(\"5. Count the occurrences of each word in the string\")\n",
    "        print(\"6. Exit\")\n",
    "\n",
    "        choice = input(\"Enter your choice (1-6): \")\n",
    "\n",
    "        if choice == '1':\n",
    "            print(\"Longest word:\", longest_word(sample_string))\n",
    "\n",
    "        elif choice == '2':\n",
    "            char = input(\"Enter the character to find its frequency: \")\n",
    "            if len(char) != 1:\n",
    "                print(\"Please enter exactly one character.\")\n",
    "            else:\n",
    "                print(f\"Frequency of character '{char}':\", char_frequency(sample_string, char))\n",
    "\n",
    "        elif choice == '3':\n",
    "            print(\"Is the string a palindrome?\", is_palindrome(sample_string))\n",
    "\n",
    "        elif choice == '4':\n",
    "            substring = input(\"Enter the substring to find its first appearance index: \")\n",
    "            print(f\"First appearance of substring '{substring}':\", first_appearance_index(sample_string, substring))\n",
    "\n",
    "        elif choice == '5':\n",
    "            print(\"Word occurrences:\", word_occurrences(sample_string))\n",
    "\n",
    "        elif choice == '6':\n",
    "            print(\"Exiting...\")\n",
    "            break\n",
    "\n",
    "        else:\n",
    "            print(\"Invalid choice. Please enter a number between 1 and 6.\")\n",
    "\n",
    "if __name__ == \"__main__\":\n",
    "    main()\n"
   ]
  },
  {
   "cell_type": "code",
   "execution_count": null,
   "id": "8f68cd2d-33dd-4ebd-9358-4ae67c408d2f",
   "metadata": {},
   "outputs": [],
   "source": []
  },
  {
   "cell_type": "code",
   "execution_count": null,
   "id": "9f9444d7-6a77-4faa-8df7-48bf531ea703",
   "metadata": {},
   "outputs": [],
   "source": []
  }
 ],
 "metadata": {
  "kernelspec": {
   "display_name": "Python 3 (ipykernel)",
   "language": "python",
   "name": "python3"
  },
  "language_info": {
   "codemirror_mode": {
    "name": "ipython",
    "version": 3
   },
   "file_extension": ".py",
   "mimetype": "text/x-python",
   "name": "python",
   "nbconvert_exporter": "python",
   "pygments_lexer": "ipython3",
   "version": "3.10.12"
  }
 },
 "nbformat": 4,
 "nbformat_minor": 5
}
